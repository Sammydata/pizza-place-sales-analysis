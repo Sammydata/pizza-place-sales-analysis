{
 "cells": [
  {
   "cell_type": "markdown",
   "id": "1d639e42",
   "metadata": {},
   "source": [
    "# 🍕 Pizza Place Sales Analysis\n",
    "This notebook explores a year's worth of sales data from a fictitious pizza place."
   ]
  },
  {
   "cell_type": "code",
   "execution_count": null,
   "id": "7314b729",
   "metadata": {},
   "outputs": [],
   "source": [
    "import pandas as pd\n",
    "\n",
    "file_path = \"order_details.xlsx\"\n",
    "xls = pd.ExcelFile(file_path)\n",
    "\n",
    "orders = pd.read_excel(xls, sheet_name='orders')\n",
    "order_details = pd.read_excel(xls, sheet_name='order_details')\n",
    "pizzas = pd.read_excel(xls, sheet_name='pizzas')\n",
    "pizza_types = pd.read_excel(xls, sheet_name='pizza_types')\n",
    "\n",
    "df = orders.merge(order_details, on='order_id') \\\n",
    "           .merge(pizzas, on='pizza_id') \\\n",
    "           .merge(pizza_types, on='pizza_type_id')\n",
    "\n",
    "df['total_price'] = df['price'] * df['quantity']\n",
    "\n",
    "df.head()"
   ]
  },
  {
   "cell_type": "markdown",
   "id": "18ab5aa0",
   "metadata": {},
   "source": [
    "## 💰 Total Revenue"
   ]
  },
  {
   "cell_type": "code",
   "execution_count": null,
   "id": "571256c7",
   "metadata": {},
   "outputs": [],
   "source": [
    "df['total_price'].sum()"
   ]
  },
  {
   "cell_type": "markdown",
   "id": "79b35385",
   "metadata": {},
   "source": [
    "## 📦 Total Quantity Sold"
   ]
  },
  {
   "cell_type": "code",
   "execution_count": null,
   "id": "2b1fa7a0",
   "metadata": {},
   "outputs": [],
   "source": [
    "df['quantity'].sum()"
   ]
  },
  {
   "cell_type": "markdown",
   "id": "d9665c3a",
   "metadata": {},
   "source": [
    "## 🧾 Total Orders"
   ]
  },
  {
   "cell_type": "code",
   "execution_count": null,
   "id": "ed34ff40",
   "metadata": {},
   "outputs": [],
   "source": [
    "df['order_id'].nunique()"
   ]
  },
  {
   "cell_type": "markdown",
   "id": "63a9b485",
   "metadata": {},
   "source": [
    "## 🍕 Number of Pizza Types"
   ]
  },
  {
   "cell_type": "code",
   "execution_count": null,
   "id": "aaf69bc2",
   "metadata": {},
   "outputs": [],
   "source": [
    "df['pizza_type_id'].nunique()"
   ]
  },
  {
   "cell_type": "markdown",
   "id": "3dbbc567",
   "metadata": {},
   "source": [
    "## 💵 Average Price of Pizzas"
   ]
  },
  {
   "cell_type": "code",
   "execution_count": null,
   "id": "0465c6f3",
   "metadata": {},
   "outputs": [],
   "source": [
    "df[['pizza_id', 'price']].drop_duplicates()['price'].mean()"
   ]
  }
 ],
 "metadata": {},
 "nbformat": 4,
 "nbformat_minor": 5
}
